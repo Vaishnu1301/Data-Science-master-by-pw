{
 "cells": [
  {
   "cell_type": "code",
   "execution_count": null,
   "id": "59c3b64b-e6cd-42e3-af22-e5fe6962c815",
   "metadata": {},
   "outputs": [],
   "source": [
    "You are writing code for a company. The requirement of the company is that you create a python function that will\n",
    "check whether the password entered by the user is correct or not. The function should take the password as input \n",
    "and return the string “Valid Password” if the entered password follows the below-given password guidelines else it \n",
    "should return “Invalid Password”. Note: 1. The Password should contain at least two uppercase letters and at least\n",
    "two lowercase letters. 2. The Password should contain at least a number and three special characters. 3.\n",
    "The length of the password should be 10 characters long."
   ]
  },
  {
   "cell_type": "code",
   "execution_count": 1,
   "id": "7aa2140d-3356-4f0a-9e34-4e47caf5d648",
   "metadata": {},
   "outputs": [
    {
     "name": "stdout",
     "output_type": "stream",
     "text": [
      "Valid Password\n"
     ]
    }
   ],
   "source": [
    "import re\n",
    "password = \"R@m@_f0rtu9e$\"\n",
    "flag = 0\n",
    "while True:\n",
    "    if (len(password)<=8):\n",
    "        flag = -1\n",
    "        break\n",
    "    elif not re.search(\"[a-z]\", password):\n",
    "        flag = -1\n",
    "        break\n",
    "    elif not re.search(\"[A-Z]\", password):\n",
    "        flag = -1\n",
    "        break\n",
    "    elif not re.search(\"[0-9]\", password):\n",
    "        flag = -1\n",
    "        break\n",
    "    elif not re.search(\"[_@$]\" , password):\n",
    "        flag = -1\n",
    "        break\n",
    "    elif re.search(\"\\s\" , password):\n",
    "        flag = -1\n",
    "        break\n",
    "    else:\n",
    "        flag = 0\n",
    "        print(\"Valid Password\")\n",
    "        break\n",
    " \n",
    "if flag == -1:\n",
    "    print(\"Not a Valid Password \")"
   ]
  },
  {
   "cell_type": "code",
   "execution_count": null,
   "id": "3c19c279-b0d4-48bf-85f0-32a5b09b7c4d",
   "metadata": {},
   "outputs": [],
   "source": [
    "'''Q2. Solve the below-given questions using at least one of the following:\n",
    "\n",
    "Lambda functioJ\n",
    "Filter functioJ\n",
    "Zap functioJ\n",
    "List ComprehensioI\n",
    "Check if the string starts with a particular letterY Check if the string is numeric Sort a list of tuples having fruit names and their quantity. [(\"mango\",99),(\"orange\",80), (\"grapes\", 1000)- Find the squares of numbers from 1 to 10Y Find the cube root of numbers from 1 to 10Y Check if a given number is evenY Filter odd numbers from the given list. 1,2,3,4,5,6,7,8,9,10- Sort a list of integers into positive and negative integers lists. [1,2,3,4,5,6,-1,-2,-3,-4,-5,0]'''"
   ]
  },
  {
   "cell_type": "code",
   "execution_count": null,
   "id": "ac2abf67-2f6c-4915-a4d3-f5f317a7648e",
   "metadata": {},
   "outputs": [],
   "source": []
  }
 ],
 "metadata": {
  "kernelspec": {
   "display_name": "Python 3 (ipykernel)",
   "language": "python",
   "name": "python3"
  },
  "language_info": {
   "codemirror_mode": {
    "name": "ipython",
    "version": 3
   },
   "file_extension": ".py",
   "mimetype": "text/x-python",
   "name": "python",
   "nbconvert_exporter": "python",
   "pygments_lexer": "ipython3",
   "version": "3.10.8"
  }
 },
 "nbformat": 4,
 "nbformat_minor": 5
}
