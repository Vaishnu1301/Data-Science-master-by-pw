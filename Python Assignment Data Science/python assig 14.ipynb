{
 "cells": [
  {
   "cell_type": "code",
   "execution_count": null,
   "id": "c79f7574-a3ca-41f0-bc8e-23483e6b3391",
   "metadata": {},
   "outputs": [],
   "source": [
    "1. what is multithreading in python? hy is it used? Name the module used to handle threads in python"
   ]
  },
  {
   "cell_type": "code",
   "execution_count": null,
   "id": "1c62cf05-4729-47d2-b065-93d80b9b3942",
   "metadata": {},
   "outputs": [],
   "source": [
    "Multithreading in Python is a technique where a program is divided into multiple threads of execution that can \n",
    "run concurrently. Each thread is a separate flow of control that can perform a specific task, and the threads \n",
    "share the same memory space, allowing them to communicate and coordinate with each other.\n",
    "\n",
    "Multithreading is used in Python to perform multiple tasks simultaneously and make programs more efficient by\n",
    "utilizing the available hardware resources. It is especially useful in applications that involve I/O operations\n",
    "or other tasks that are blocking, as it allows the program to continue executing other tasks while waiting for\n",
    "the blocked task to complete.\n",
    "\n",
    "In Python, the threading module is used to handle threads. This module provides a simple and easy-to-use\n",
    "interface for creating and managing threads, with support for features such as thread synchronization, \n",
    "thread-safe data structures, and thread communication. The threading module is part of the standard Python library,\n",
    "so it is available on all platforms where Python is supported."
   ]
  },
  {
   "cell_type": "code",
   "execution_count": null,
   "id": "de492365-7cfa-4f32-8431-7d55ebfefa5e",
   "metadata": {},
   "outputs": [],
   "source": [
    "2. why threading module used? write the use of the following functions"
   ]
  },
  {
   "cell_type": "code",
   "execution_count": null,
   "id": "44a7b5a1-f203-4aba-9a75-e4f06f5bee46",
   "metadata": {},
   "outputs": [],
   "source": [
    "1. activeCount()\n",
    "2. currentThread()\n",
    "3. enumerate()"
   ]
  },
  {
   "cell_type": "code",
   "execution_count": null,
   "id": "8407c993-075c-4063-851b-b2555e5f02d8",
   "metadata": {},
   "outputs": [],
   "source": [
    "The threading module in Python is used to create and manage threads in a program. There are several reasons why\n",
    "you might want to use threading in your Python program:\n",
    "\n",
    "Concurrency: Threading allows multiple parts of a program to run concurrently, which can improve the performance\n",
    "and efficiency of the program. By running multiple threads at the same time, the program can utilize the available\n",
    "hardware resources more effectively.\n",
    "\n",
    "Asynchronous I/O: Threading can be used to perform asynchronous I/O operations, where the program can continue \n",
    "executing other tasks while waiting for I/O operations to complete. This can be useful in applications that involve\n",
    "network communication, file I/O, or other types of I/O that are blocking.\n",
    "\n",
    "Parallelism: Threading can be used to perform tasks in parallel, where multiple threads can work on the same task\n",
    "simultaneously. This can be useful in applications that involve heavy computation, as it can reduce the time \n",
    "required to complete the task.\n",
    "\n",
    "Synchronization: Threading provides mechanisms for synchronizing access to shared resources, such as data\n",
    "structures or files, to avoid conflicts and ensure thread safety.\n",
    "\n",
    "activeCount(): The activeCount() function is used to get the number of thread objects that are currently active \n",
    "in the program. This can be useful for monitoring the status of threads and ensuring that all threads have \n",
    "completed before exiting the program.\n",
    "\n",
    "currentThread(): The currentThread() function is used to get a reference to the current thread object that is \n",
    "executing the function. This can be useful for identifying the current thread, and for passing the thread object\n",
    "to other functions for manipulation.\n",
    "\n",
    "enumerate(): The enumerate() function is used to get a list of all thread objects that are currently active in \n",
    "the program. This can be useful for iterating over all active threads and performing operations on them, such as\n",
    "waiting for them to complete or checking their status."
   ]
  },
  {
   "cell_type": "code",
   "execution_count": null,
   "id": "a6afd523-2fed-4055-b773-6c83c6412540",
   "metadata": {},
   "outputs": [],
   "source": [
    "3. Explain the following functions"
   ]
  },
  {
   "cell_type": "code",
   "execution_count": null,
   "id": "4e5fdf78-d793-4fb3-b27a-41ce8032106d",
   "metadata": {},
   "outputs": [],
   "source": [
    "1.run()\n",
    "2.start()\n",
    "3. join()\n",
    "4. isAlive()"
   ]
  },
  {
   "cell_type": "code",
   "execution_count": null,
   "id": "211d0fb9-032c-4a8c-b35a-82dd4b9f074c",
   "metadata": {},
   "outputs": [],
   "source": [
    "un(): The run() method is the entry point for the thread. When a thread is started, its run() method is called.\n",
    "This method can be overridden to define the thread's behavior.\n",
    "\n",
    "start(): The start() method is used to start the execution of a thread. When the start() method is called, \n",
    "the thread's run() method is executed in a separate thread of execution.\n",
    "\n",
    "join(): The join() method is used to wait for the thread to complete its execution. When the join() method is\n",
    "called, the program waits until the thread completes before continuing execution.\n",
    "\n",
    "isAlive(): The isAlive() method is used to check whether the thread is currently executing. The method returns\n",
    "True if the thread is currently executing, and False otherwise."
   ]
  },
  {
   "cell_type": "code",
   "execution_count": null,
   "id": "614b0645-6b31-482c-8002-843e7951b636",
   "metadata": {},
   "outputs": [],
   "source": [
    "4. write a python program to create two threads. Thread one must print the list of squares and thread\n",
    "two must print the list of cubes"
   ]
  },
  {
   "cell_type": "code",
   "execution_count": 1,
   "id": "62912d61-ce21-4955-951f-4b25761bc02c",
   "metadata": {},
   "outputs": [
    {
     "name": "stdout",
     "output_type": "stream",
     "text": [
      "Square of 1 = 1Cube of 1 = 1\n",
      "Cube of 2 = 8\n",
      "Cube of 3 = 27\n",
      "Cube of 4 = 64\n",
      "Cube of 5 = 125\n",
      "Cube of 6 = 216\n",
      "Cube of 7 = 343\n",
      "Cube of 8 = 512\n",
      "Cube of 9 = 729\n",
      "Cube of 10 = 1000\n",
      "\n",
      "Square of 2 = 4\n",
      "Square of 3 = 9\n",
      "Square of 4 = 16\n",
      "Square of 5 = 25\n",
      "Square of 6 = 36\n",
      "Square of 7 = 49\n",
      "Square of 8 = 64\n",
      "Square of 9 = 81\n",
      "Square of 10 = 100\n"
     ]
    }
   ],
   "source": [
    "import threading\n",
    "\n",
    "def print_squares():\n",
    "    for i in range(1, 11):\n",
    "        print(f\"Square of {i} = {i**2}\")\n",
    "\n",
    "def print_cubes():\n",
    "    for i in range(1, 11):\n",
    "        print(f\"Cube of {i} = {i**3}\")\n",
    "\n",
    "t1 = threading.Thread(target=print_squares)\n",
    "t2 = threading.Thread(target=print_cubes)\n",
    "\n",
    "t1.start()\n",
    "t2.start()\n",
    "\n",
    "\n",
    "t1.join()\n",
    "t2.join()"
   ]
  },
  {
   "cell_type": "code",
   "execution_count": null,
   "id": "13f6287d-22c2-4079-96a3-fc73cd71af5d",
   "metadata": {},
   "outputs": [],
   "source": [
    "5.State advantages and disadvantages of multithreading"
   ]
  },
  {
   "cell_type": "code",
   "execution_count": null,
   "id": "0bde75f8-f556-4cea-b897-8535bf02b3f8",
   "metadata": {},
   "outputs": [],
   "source": [
    "Advantages of Multithreading:\n",
    "\n",
    "Improved performance: Multithreading allows a program to perform multiple tasks simultaneously, which can lead \n",
    "to better performance and faster execution times. This is especially useful in applications that involve I/O or\n",
    "other tasks that are blocking.\n",
    "\n",
    "Resource sharing: Multithreading allows threads to share resources such as memory and CPU time, which can lead to\n",
    "more efficient resource utilization.\n",
    "\n",
    "Asynchronous execution: Multithreading can be used to perform asynchronous I/O operations, where the program can\n",
    "continue executing other tasks while waiting for I/O operations to complete. This can improve the responsiveness\n",
    "of the program.\n",
    "\n",
    "Parallel processing: Multithreading can be used to perform tasks in parallel, where multiple threads can work on \n",
    "the same task simultaneously. This can reduce the time required to complete the task.\n",
    "\n",
    "Disadvantages of Multithreading:\n",
    "\n",
    "Complexity: Multithreading adds complexity to a program, making it more difficult to design, develop, and debug.\n",
    "It can be challenging to ensure thread safety and avoid race conditions and deadlocks.\n",
    "\n",
    "Overhead: Multithreading introduces overhead in terms of memory and CPU time, as each thread requires its own\n",
    "stack and context switching between threads requires additional processing time.\n",
    "\n",
    "Synchronization issues: Multithreading introduces synchronization issues, as threads may access shared resources \n",
    "simultaneously, leading to conflicts and data corruption.\n",
    "\n",
    "Debugging challenges: Debugging multithreaded programs can be challenging, as the behavior of the program can be \n",
    "non-deterministic and difficult to reproduce."
   ]
  },
  {
   "cell_type": "code",
   "execution_count": null,
   "id": "27427676-0d9a-4410-9c6f-235792c73200",
   "metadata": {},
   "outputs": [],
   "source": [
    "6. Explain deadlocks and race conditions."
   ]
  },
  {
   "cell_type": "code",
   "execution_count": null,
   "id": "e3577de1-8260-4265-94a0-9d09eff42b69",
   "metadata": {},
   "outputs": [],
   "source": []
  },
  {
   "cell_type": "code",
   "execution_count": null,
   "id": "561755d5-cbad-466d-9a4b-862de7d39d5d",
   "metadata": {},
   "outputs": [],
   "source": []
  }
 ],
 "metadata": {
  "kernelspec": {
   "display_name": "Python 3 (ipykernel)",
   "language": "python",
   "name": "python3"
  },
  "language_info": {
   "codemirror_mode": {
    "name": "ipython",
    "version": 3
   },
   "file_extension": ".py",
   "mimetype": "text/x-python",
   "name": "python",
   "nbconvert_exporter": "python",
   "pygments_lexer": "ipython3",
   "version": "3.10.8"
  }
 },
 "nbformat": 4,
 "nbformat_minor": 5
}
