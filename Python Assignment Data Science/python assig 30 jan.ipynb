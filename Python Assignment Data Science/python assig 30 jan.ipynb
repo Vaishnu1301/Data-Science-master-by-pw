{
 "cells": [
  {
   "cell_type": "code",
   "execution_count": null,
   "id": "584937c8-ce98-4da6-9c8b-534346516dd5",
   "metadata": {},
   "outputs": [],
   "source": [
    "Q1. "
   ]
  },
  {
   "cell_type": "code",
   "execution_count": 1,
   "id": "3b28cf8d-ddaf-43a1-bdcc-38306040b2ac",
   "metadata": {},
   "outputs": [
    {
     "name": "stdin",
     "output_type": "stream",
     "text": [
      "enter your marks 65\n"
     ]
    },
    {
     "name": "stdout",
     "output_type": "stream",
     "text": [
      "Your Grade is C\n"
     ]
    }
   ],
   "source": [
    "marks = int(input(\"enter your marks\"))\n",
    "if marks >90:\n",
    "    print (\"Your Grade is A\")\n",
    "elif marks >80 and marks <=90 :\n",
    "    print(\"Your Grade is B\")\n",
    "elif marks >=60 and marks <=80 :\n",
    "    print(\"Your Grade is C\")\n",
    "else :\n",
    "    print(\"Your Grade is D\")"
   ]
  },
  {
   "cell_type": "code",
   "execution_count": null,
   "id": "e0d4660f-cb5e-40b1-adab-3760b4aab94b",
   "metadata": {},
   "outputs": [],
   "source": [
    "Q2."
   ]
  },
  {
   "cell_type": "code",
   "execution_count": 2,
   "id": "c2416c1a-7dc5-4132-9659-33324d06c305",
   "metadata": {},
   "outputs": [
    {
     "name": "stdin",
     "output_type": "stream",
     "text": [
      "enter the price of bike  5600\n"
     ]
    },
    {
     "name": "stdout",
     "output_type": "stream",
     "text": [
      "Your road tax is 5%\n"
     ]
    }
   ],
   "source": [
    "price = int(input(\"enter the price of bike \"))\n",
    "if price >100000 :\n",
    "    print (\"Your road tax is 15%\")\n",
    "elif price >50000 and price <100000 :\n",
    "    print(\"Your road tax is 10%\")\n",
    "else :\n",
    "    print(\"Your road tax is 5%\")"
   ]
  },
  {
   "cell_type": "code",
   "execution_count": null,
   "id": "c10c8b88-1412-438e-82d2-b4b1a9b0a5f5",
   "metadata": {},
   "outputs": [],
   "source": [
    "Q3. "
   ]
  },
  {
   "cell_type": "code",
   "execution_count": 4,
   "id": "59c40112-6465-4f00-a15d-250029f92dca",
   "metadata": {},
   "outputs": [
    {
     "name": "stdin",
     "output_type": "stream",
     "text": [
      "enter your city Jaipur\n"
     ]
    },
    {
     "name": "stdout",
     "output_type": "stream",
     "text": [
      "Monument of your city is Jal Mahal\n"
     ]
    }
   ],
   "source": [
    "city = input(\"enter your city\")\n",
    "if city == \"Delhi\" :\n",
    "    print(\"Monument of your city is Red Fort\")\n",
    "if city == \"Agra\" :\n",
    "    print(\"Monument of your city is Tajmahal\")\n",
    "if city == \"Jaipur\":\n",
    "    print(\"Monument of your city is Jal Mahal\")"
   ]
  },
  {
   "cell_type": "code",
   "execution_count": null,
   "id": "a56008eb-b49b-4820-9564-c7238cd76e96",
   "metadata": {},
   "outputs": [],
   "source": [
    "Q4."
   ]
  },
  {
   "cell_type": "code",
   "execution_count": 1,
   "id": "ca438a89-325e-4da0-8e8b-090f550d384b",
   "metadata": {},
   "outputs": [
    {
     "name": "stdin",
     "output_type": "stream",
     "text": [
      "Enter the numbers 6\n"
     ]
    },
    {
     "name": "stdout",
     "output_type": "stream",
     "text": [
      "0\n"
     ]
    }
   ],
   "source": [
    " num = int(input(\"Enter the numbers\"))\n",
    "count = 0\n",
    "while num > 10:\n",
    "    num = num / 3\n",
    "    count += 1\n",
    "print(count)"
   ]
  },
  {
   "cell_type": "code",
   "execution_count": null,
   "id": "63f10ca4-1340-4c3b-9c4c-c4b3ae81d58b",
   "metadata": {},
   "outputs": [],
   "source": [
    "Q5."
   ]
  },
  {
   "cell_type": "code",
   "execution_count": 2,
   "id": "2f162ccc-b262-4032-9a7f-5f42cbedd745",
   "metadata": {},
   "outputs": [
    {
     "data": {
      "text/plain": [
       "'Ans => Python while loop is used to run a block code until a certain condition is met.\\n      The syntax of while loop is:\\n      while condition:\\n      # body of while loop\\n      Here,\\n      A while loop evaluates the condition\\n      If the condition evaluates to True, the code inside the while loop is executed.\\n      condition is evaluated again.\\n      This process continues until the condition is False.\\n      When condition evaluates to False, the loop stops'"
      ]
     },
     "execution_count": 2,
     "metadata": {},
     "output_type": "execute_result"
    }
   ],
   "source": [
    "'''Ans => Python while loop is used to run a block code until a certain condition is met.\n",
    "      The syntax of while loop is:\n",
    "      while condition:\n",
    "      # body of while loop\n",
    "      Here,\n",
    "      A while loop evaluates the condition\n",
    "      If the condition evaluates to True, the code inside the while loop is executed.\n",
    "      condition is evaluated again.\n",
    "      This process continues until the condition is False.\n",
    "      When condition evaluates to False, the loop stops'''\n"
   ]
  },
  {
   "cell_type": "code",
   "execution_count": null,
   "id": "9b54b0f8-ae71-4962-acb0-945bc07c4db0",
   "metadata": {},
   "outputs": [],
   "source": [
    "Q6. "
   ]
  },
  {
   "cell_type": "code",
   "execution_count": 3,
   "id": "3301a98e-69e5-498d-8273-f536bf4629dc",
   "metadata": {},
   "outputs": [
    {
     "name": "stdout",
     "output_type": "stream",
     "text": [
      "*\n",
      "**\n",
      "***\n",
      "****\n",
      "*****\n",
      "-----\n",
      "*****\n",
      "****\n",
      "***\n",
      "**\n",
      "*\n",
      "-----\n",
      "    *\n",
      "   **\n",
      "  ***\n",
      " ****\n",
      "*****\n"
     ]
    }
   ],
   "source": [
    "# Pattern 1:\n",
    "i = 1\n",
    "while i <= 5:\n",
    "    j = 1\n",
    "    while j <= i:\n",
    "        print(\"*\", end=\"\")\n",
    "        j += 1\n",
    "    print(\"\")\n",
    "    i += 1\n",
    "    \n",
    "print(\"-----\")\n",
    "# Pattern 2:\n",
    "i = 5\n",
    "while i >= 1:\n",
    "    j = i\n",
    "    while j >= 1:\n",
    "        print(\"*\", end=\"\")\n",
    "        j -= 1\n",
    "    print(\"\")\n",
    "    i -= 1\n",
    "\n",
    "print(\"-----\")\n",
    "# Pattern 3:\n",
    "i = 5\n",
    "while i >= 1:\n",
    "    j = 1\n",
    "    while j <= 5:\n",
    "        if j >= i:\n",
    "            print(\"*\", end=\"\")\n",
    "        else:\n",
    "            print(\" \", end=\"\")\n",
    "        j += 1\n",
    "    print(\"\")\n",
    "    i -= 1"
   ]
  },
  {
   "cell_type": "code",
   "execution_count": null,
   "id": "2c853383-3c6a-41e2-b969-5db5add4dd5b",
   "metadata": {},
   "outputs": [],
   "source": [
    "Q7."
   ]
  },
  {
   "cell_type": "code",
   "execution_count": 4,
   "id": "c13ef94f-5f17-4010-a902-19b5475e2cdf",
   "metadata": {},
   "outputs": [
    {
     "name": "stdout",
     "output_type": "stream",
     "text": [
      "0\n"
     ]
    }
   ],
   "source": [
    "i = 10\n",
    "while i > 0:\n",
    "    i = i - 1\n",
    "print(i)"
   ]
  },
  {
   "cell_type": "code",
   "execution_count": null,
   "id": "f42e4755-e2ac-441b-b9ab-b6196723d079",
   "metadata": {},
   "outputs": [],
   "source": []
  },
  {
   "cell_type": "code",
   "execution_count": null,
   "id": "9410b42f-479a-41a8-87bf-bc02359dcc6e",
   "metadata": {},
   "outputs": [],
   "source": []
  }
 ],
 "metadata": {
  "kernelspec": {
   "display_name": "Python 3 (ipykernel)",
   "language": "python",
   "name": "python3"
  },
  "language_info": {
   "codemirror_mode": {
    "name": "ipython",
    "version": 3
   },
   "file_extension": ".py",
   "mimetype": "text/x-python",
   "name": "python",
   "nbconvert_exporter": "python",
   "pygments_lexer": "ipython3",
   "version": "3.10.8"
  }
 },
 "nbformat": 4,
 "nbformat_minor": 5
}
