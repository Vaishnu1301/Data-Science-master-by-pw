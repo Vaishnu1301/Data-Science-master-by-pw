{
 "cells": [
  {
   "cell_type": "code",
   "execution_count": null,
   "id": "191f4efd-1e03-487b-bc24-467fd288ad31",
   "metadata": {},
   "outputs": [],
   "source": [
    "Q1. Explain Class and Object with respect to Object-Oriented Programming. Give a suitable example.\n",
    "\n",
    "Ans--> A class is a blueprint for creating objects providing initial values for state , and \n",
    "implementations of behavior.\n",
    "\n",
    "An object is an instance of a class, created at runtime.Each object has its own unique set of attributes and\n",
    "methods that operate on that data."
   ]
  },
  {
   "cell_type": "code",
   "execution_count": 1,
   "id": "41e17773-4332-4bd0-b429-4f838617170c",
   "metadata": {},
   "outputs": [
    {
     "name": "stdout",
     "output_type": "stream",
     "text": [
      "Toyota\n",
      "Camry\n",
      "2022\n",
      "0\n",
      "Toyota Camry, manufactured in 2022\n"
     ]
    }
   ],
   "source": [
    "# Example\n",
    "\n",
    "class Car:\n",
    "  def __init__(self, name, model, year):\n",
    "    self.name = name\n",
    "    self.model = model\n",
    "    self.year = year\n",
    "    self.odometer_reading = 0\n",
    "    \n",
    "  def description(self):\n",
    "    return f\"{self.name} {self.model}, manufactured in {self.year}\"\n",
    "\n",
    "my_car = Car(\"Toyota\", \"Camry\", 2022)\n",
    "print(my_car.name) \n",
    "print(my_car.model) \n",
    "print(my_car.year)\n",
    "print(my_car.odometer_reading)\n",
    "print(my_car.description()) "
   ]
  },
  {
   "cell_type": "code",
   "execution_count": null,
   "id": "27dd939a-6d11-45ad-ac99-b11750da8ee6",
   "metadata": {},
   "outputs": [],
   "source": [
    "Q2. Name the four pillars of OOPs."
   ]
  },
  {
   "cell_type": "code",
   "execution_count": null,
   "id": "eef70c45-70d8-4205-8be7-68b2b6556472",
   "metadata": {},
   "outputs": [],
   "source": [
    "Ans-->\n",
    " * Encapsulation\n",
    " * Inheritance\n",
    " * Polymorphism\n",
    " * Abstraction"
   ]
  },
  {
   "cell_type": "code",
   "execution_count": null,
   "id": "44ad8438-bc48-40f6-b4cf-eea548ff2308",
   "metadata": {},
   "outputs": [],
   "source": [
    "Q3. Explain why the __init__() function is used. Give a suitable example.\n",
    "\n",
    "Ans--> The init method is a special method in Python classes that acts as a constructor. It is automatically \n",
    "called when an object of the class is created.The init method is used to initialize the attributes of the class \n",
    "and set the default values."
   ]
  },
  {
   "cell_type": "code",
   "execution_count": 2,
   "id": "49912caa-9d48-4431-a1e0-ef8d0239869c",
   "metadata": {},
   "outputs": [
    {
     "name": "stdout",
     "output_type": "stream",
     "text": [
      "Toyota\n",
      "Camry\n",
      "2022\n"
     ]
    }
   ],
   "source": [
    "# Example\n",
    "\n",
    "class Car:\n",
    "  def __init__(self, name, model, year):\n",
    "    self.name = name\n",
    "    self.model = model\n",
    "    self.year = year\n",
    "    self.odometer_reading = 0\n",
    "   \n",
    "\n",
    "my_car = Car(\"Toyota\", \"Camry\", 2022)\n",
    "print(my_car.name) \n",
    "print(my_car.model) \n",
    "print(my_car.year)\n"
   ]
  },
  {
   "cell_type": "code",
   "execution_count": null,
   "id": "e90486b2-23b0-4114-b4ec-edea34439f18",
   "metadata": {},
   "outputs": [],
   "source": [
    "Q4. Why self is used in OOPs?\n",
    "\n",
    "Ans--> Self is a reference to the current instance of the class. It is used to access the attributes and \n",
    "methods of the class within the class definition."
   ]
  },
  {
   "cell_type": "code",
   "execution_count": null,
   "id": "258b5484-501b-4cf1-a71f-3c8f3859daa3",
   "metadata": {},
   "outputs": [],
   "source": [
    "Q5. What is inheritance? Give an example for each type of inheritance.\n",
    "\n",
    "Ans--> inheritance is a mechanism in object-oriented programming that allows a new class to be derived from an \n",
    "existing class, inheriting its attributes and behavior. This is useful for creating new classes that are related\n",
    "to existing classes and share some of their functionality.\n",
    "\n",
    "Types of Inheritance\n",
    "\n"
   ]
  },
  {
   "cell_type": "code",
   "execution_count": null,
   "id": "4ddae74a-dd8b-4f78-98ad-168fbea66856",
   "metadata": {},
   "outputs": [],
   "source": [
    " 1. Single Inheritance\n",
    "Single inheritance enables a derived class to inherit properties from a single parent class, \n",
    "thus enabling code reusability and the addition of new features to existing code."
   ]
  },
  {
   "cell_type": "code",
   "execution_count": null,
   "id": "832ce4c5-92f9-41c1-b05b-2254ec937515",
   "metadata": {},
   "outputs": [],
   "source": [
    "\n",
    "#example\n",
    "class Parent:\n",
    "    def func1(self):\n",
    "        print(\"This function is in parent class.\")\n",
    "class Child(Parent):\n",
    "    def func2(self):\n",
    "        print(\"This function is in child class.\")\n",
    "\n",
    "object = Child()\n",
    "object.func1()\n",
    "object.func2()"
   ]
  },
  {
   "cell_type": "code",
   "execution_count": null,
   "id": "877cea95-6d62-49a4-843f-be7f1dcfaee3",
   "metadata": {},
   "outputs": [],
   "source": [
    "  2. Multiple Inheritance:\n",
    "When a class can be derived from more than one base class this type of inheritance is called multiple inheritances.\n",
    "In multiple inheritances, all the features of the base classes are inherited intothe derived class."
   ]
  },
  {
   "cell_type": "code",
   "execution_count": 3,
   "id": "fad5a5bf-100a-476c-a008-8aee92a86fdd",
   "metadata": {},
   "outputs": [
    {
     "name": "stdout",
     "output_type": "stream",
     "text": [
      "Father : RAM\n",
      "Mother : SITA\n"
     ]
    }
   ],
   "source": [
    "#example\n",
    "class Mother:\n",
    "    mothername = \"\"\n",
    " \n",
    "    def mother(self):\n",
    "        print(self.mothername)\n",
    " \n",
    "class Father:\n",
    "    fathername = \"\"\n",
    " \n",
    "    def father(self):\n",
    "        print(self.fathername)\n",
    "\n",
    "class Son(Mother, Father):\n",
    "    def parents(self):\n",
    "        print(\"Father :\", self.fathername)\n",
    "        print(\"Mother :\", self.mothername)\n",
    "\n",
    "s1 = Son()\n",
    "s1.fathername = \"RAM\"\n",
    "s1.mothername = \"SITA\"\n",
    "s1.parents()\n"
   ]
  },
  {
   "cell_type": "code",
   "execution_count": null,
   "id": "5c6deb73-2c1a-4f1e-b7aa-85c0d12111df",
   "metadata": {},
   "outputs": [],
   "source": [
    " 3. Multilevel Inheritance :\n",
    "In multilevel inheritance, features of the base class and the derived class are further inherited into the new\n",
    "derived class. This is similar to a relationship representing a child and a grandfather."
   ]
  },
  {
   "cell_type": "code",
   "execution_count": 4,
   "id": "f59013e2-da9a-4470-9ed4-bc4e4f143132",
   "metadata": {},
   "outputs": [
    {
     "name": "stdout",
     "output_type": "stream",
     "text": [
      "Lal mani\n",
      "Grandfather name : Lal mani\n",
      "Father name : Rampal\n",
      "Son name : Prince\n"
     ]
    }
   ],
   "source": [
    "#example\n",
    "class Grandfather:\n",
    " \n",
    "    def __init__(self, grandfathername):\n",
    "        self.grandfathername = grandfathername\n",
    " \n",
    "\n",
    "class Father(Grandfather):\n",
    "    def __init__(self, fathername, grandfathername):\n",
    "        self.fathername = fathername\n",
    " \n",
    "       \n",
    "        Grandfather.__init__(self, grandfathername)\n",
    " \n",
    "\n",
    " \n",
    " \n",
    "class Son(Father):\n",
    "    def __init__(self, sonname, fathername, grandfathername):\n",
    "        self.sonname = sonname\n",
    " \n",
    "\n",
    "        Father.__init__(self, fathername, grandfathername)\n",
    " \n",
    "    def print_name(self):\n",
    "        print('Grandfather name :', self.grandfathername)\n",
    "        print(\"Father name :\", self.fathername)\n",
    "        print(\"Son name :\", self.sonname)\n",
    "        \n",
    " \n",
    "        \n",
    "#  Driver code\n",
    "s1 = Son('Prince', 'Rampal', 'Lal mani')\n",
    "print(s1.grandfathername)\n",
    "s1.print_name()\n",
    " \n",
    " "
   ]
  },
  {
   "cell_type": "code",
   "execution_count": null,
   "id": "52495399-7568-49f8-9b62-6523bb18995a",
   "metadata": {},
   "outputs": [],
   "source": [
    " 4. Hierarchical Inheritance:\n",
    "When more than one derived class are created from a single base this type of inheritance is called hierarchical \n",
    "inheritance. In this program, we have a parent (base) class and two child (derived) classes.\n",
    "\n"
   ]
  },
  {
   "cell_type": "code",
   "execution_count": 5,
   "id": "a5fea2f9-998a-45d2-8c5f-d1188252902d",
   "metadata": {},
   "outputs": [
    {
     "name": "stdout",
     "output_type": "stream",
     "text": [
      "This function is in parent class.\n",
      "This function is in child 1.\n",
      "This function is in parent class.\n",
      "This function is in child 2.\n"
     ]
    }
   ],
   "source": [
    "#example\n",
    "class Parent:\n",
    "    def func1(self):\n",
    "        print(\"This function is in parent class.\")\n",
    " \n",
    "# Derived class1\n",
    " \n",
    " \n",
    "class Child1(Parent):\n",
    "    def func2(self):\n",
    "        print(\"This function is in child 1.\")\n",
    " \n",
    "# Derivied class2\n",
    " \n",
    " \n",
    "class Child2(Parent):\n",
    "    def func3(self):\n",
    "        print(\"This function is in child 2.\")\n",
    " \n",
    " \n",
    "# Driver's code\n",
    "object1 = Child1()\n",
    "object2 = Child2()\n",
    "object1.func1()\n",
    "object1.func2()\n",
    "object2.func1()\n",
    "object2.func3()"
   ]
  },
  {
   "cell_type": "code",
   "execution_count": null,
   "id": "ee618a55-fafc-4664-9a27-ffcef42a4f52",
   "metadata": {},
   "outputs": [],
   "source": []
  }
 ],
 "metadata": {
  "kernelspec": {
   "display_name": "Python 3 (ipykernel)",
   "language": "python",
   "name": "python3"
  },
  "language_info": {
   "codemirror_mode": {
    "name": "ipython",
    "version": 3
   },
   "file_extension": ".py",
   "mimetype": "text/x-python",
   "name": "python",
   "nbconvert_exporter": "python",
   "pygments_lexer": "ipython3",
   "version": "3.10.8"
  }
 },
 "nbformat": 4,
 "nbformat_minor": 5
}
