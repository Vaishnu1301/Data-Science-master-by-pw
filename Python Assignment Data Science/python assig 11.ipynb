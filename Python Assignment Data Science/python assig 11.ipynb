{
 "cells": [
  {
   "cell_type": "code",
   "execution_count": null,
   "id": "dca67a7c-6516-4548-9e0e-0d113942c726",
   "metadata": {},
   "outputs": [],
   "source": [
    "Q1. Create a function which will take a list as an argument and return the product of all the numbers\n",
    "after creating a flat list.\n",
    "Use the below-given list as an argument for your function. \n",
    "list1 = [1,2,3,4, [44,55,66, True], False, (34,56,78,89,34), {1,2,3,3,2,1}, {1:34, \"key2\": [55, 67, 78, 89], \n",
    "4: (45,22, 61, 34)}, [56, 'data science'], 'Machine Learning']\n",
    "Note: you must extract numeric keys and values of the dictionary also."
   ]
  },
  {
   "cell_type": "code",
   "execution_count": 2,
   "id": "f96a3be7-b94e-448f-b46c-b326b7e748f5",
   "metadata": {},
   "outputs": [
    {
     "name": "stdout",
     "output_type": "stream",
     "text": [
      "2315262738624675840\n"
     ]
    }
   ],
   "source": [
    "from typing import List\n",
    "\n",
    "def get_product(lst: List):\n",
    "    flat_list = []\n",
    "    def flatten(lst):\n",
    "        for item in lst:\n",
    "            if type(item) in (list, tuple, set, dict):\n",
    "                flatten(item)\n",
    "            elif type(item) == int:\n",
    "                flat_list.append(item)\n",
    "    flatten(lst)\n",
    "    product = 1\n",
    "    for num in flat_list:\n",
    "        product *= num\n",
    "    return product\n",
    "\n",
    "list1 = [1,2,3,4, [44,55,66, True], False, (34,56,78,89,34),\n",
    "{1,2,3,3,2,1}, {1:34, \"key2\": [55, 67, 78, 89], 4: (45, 22, 61, 34)}, [56, 'data science'], 'Machine Learning']\n",
    "print(get_product(list1))"
   ]
  },
  {
   "cell_type": "code",
   "execution_count": null,
   "id": "f3d82134-f23d-4166-8402-9d7f070db84f",
   "metadata": {},
   "outputs": [],
   "source": [
    "Q2. Write a python program for encrypting a message sent to you by your friend. The logic of encryption\n",
    "should be such that, for a the output should be z. For b, the output should be y. For c, the output should\n",
    "be x respectively. Also, the whitespace should be replaced with a dollar sign. Keep the punctuation\n",
    "marks unchanged.\n",
    "Input Sentence: I want to become a Data Scientist.\n",
    "Encrypt the above input sentence using the program you just created.\n",
    "Note: Convert the given input sentence into lowercase before encrypting. The final output should be\n",
    "lowercase.\n",
    "Note: Create your assignment in Jupyter notebook and upload it to GitHub & share that GitHub repository\n",
    "link through your dashboard."
   ]
  },
  {
   "cell_type": "code",
   "execution_count": 3,
   "id": "72bfa3d6-d3f1-49c1-a5f8-76be7d6542d1",
   "metadata": {},
   "outputs": [
    {
     "name": "stdout",
     "output_type": "stream",
     "text": [
      "Encrypted sentence: r$dzmg$gl$yvxlnv$z$wzgz$hxrvmgrhg.\n"
     ]
    }
   ],
   "source": [
    "def encrypt(sentence):\n",
    "  sentence = sentence.lower()\n",
    "  encryption = {}\n",
    "  for i in range(26):\n",
    "    encryption[chr(i + ord('a'))] = chr((25 - i) + ord('a'))\n",
    "  encryption[' '] = '$'\n",
    "  encrypted_sentence = ''\n",
    "  for char in sentence:\n",
    "    if char in encryption:\n",
    "      encrypted_sentence += encryption[char]\n",
    "    else:\n",
    "      encrypted_sentence += char\n",
    "  return encrypted_sentence\n",
    "\n",
    "sentence = \"I want to become a Data Scientist.\"\n",
    "encrypted_sentence = encrypt(sentence)\n",
    "print(\"Encrypted sentence:\", encrypted_sentence)"
   ]
  },
  {
   "cell_type": "code",
   "execution_count": null,
   "id": "b08824d9-84b9-4a87-8ff3-6590ac312600",
   "metadata": {},
   "outputs": [],
   "source": []
  },
  {
   "cell_type": "code",
   "execution_count": null,
   "id": "5e4fe8e7-bef1-46e2-9b12-ad5fb3669a1c",
   "metadata": {},
   "outputs": [],
   "source": []
  },
  {
   "cell_type": "code",
   "execution_count": null,
   "id": "37cd9da8-5424-4f57-b983-790f3ad7b181",
   "metadata": {},
   "outputs": [],
   "source": []
  }
 ],
 "metadata": {
  "kernelspec": {
   "display_name": "Python 3 (ipykernel)",
   "language": "python",
   "name": "python3"
  },
  "language_info": {
   "codemirror_mode": {
    "name": "ipython",
    "version": 3
   },
   "file_extension": ".py",
   "mimetype": "text/x-python",
   "name": "python",
   "nbconvert_exporter": "python",
   "pygments_lexer": "ipython3",
   "version": "3.10.8"
  }
 },
 "nbformat": 4,
 "nbformat_minor": 5
}
