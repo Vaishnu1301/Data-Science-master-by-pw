{
 "cells": [
  {
   "cell_type": "code",
   "execution_count": null,
   "id": "e88c2faf-ad71-4ef1-b1d4-012dcd346eb7",
   "metadata": {},
   "outputs": [],
   "source": [
    "1Q. What is Abstraction in OOps?\n",
    "\n",
    "Ans--> Abstraction in python is defined as a process of handling complexity by hiding unnecessary information from\n",
    "the user. This is one of the core concepts of object-oriented programming (OOP) languages. That enables the user \n",
    "to implement even more complex logic on top of the provided abstraction without understanding or even thinking \n",
    "about all the hidden background/back-end complexity.\n",
    "\n",
    "\n",
    "Example === "
   ]
  },
  {
   "cell_type": "code",
   "execution_count": 1,
   "id": "2c0155c4-5a35-42b7-9b88-0de05d9b873c",
   "metadata": {},
   "outputs": [
    {
     "name": "stdout",
     "output_type": "stream",
     "text": [
      "The mileage is 30kmph\n",
      "The mileage is 27kmph \n",
      "The mileage is 25kmph \n",
      "The mileage is 24kmph \n"
     ]
    }
   ],
   "source": [
    "from abc import ABC, abstractmethod   \n",
    "class Car(ABC):   \n",
    "    def mileage(self):   \n",
    "        pass  \n",
    "  \n",
    "class Tesla(Car):   \n",
    "    def mileage(self):   \n",
    "        print(\"The mileage is 30kmph\")   \n",
    "class Suzuki(Car):   \n",
    "    def mileage(self):   \n",
    "        print(\"The mileage is 25kmph \")   \n",
    "class Duster(Car):   \n",
    "     def mileage(self):   \n",
    "          print(\"The mileage is 24kmph \")   \n",
    "  \n",
    "class Renault(Car):   \n",
    "    def mileage(self):   \n",
    "            print(\"The mileage is 27kmph \")   \n",
    "          \n",
    "# Driver code   \n",
    "t= Tesla ()   \n",
    "t.mileage()   \n",
    "  \n",
    "r = Renault()   \n",
    "r.mileage()   \n",
    "  \n",
    "s = Suzuki()   \n",
    "s.mileage()   \n",
    "d = Duster()   \n",
    "d.mileage()  "
   ]
  },
  {
   "cell_type": "code",
   "execution_count": null,
   "id": "fcd18cd3-80df-4789-aaa1-1e238f313f1b",
   "metadata": {},
   "outputs": [],
   "source": [
    " 2Q. Differentiate between Abstraction and Encapsulation. Explain with an example.\n",
    "    Ans--> Abstraction is the process or method of gaining the information. While encapsulation is the process or \n",
    "    method to contain the information. In abstraction, problems are solved at the design or interface level. \n",
    "    While in encapsulation, problems are solved at the implementation level.\n",
    "    \n",
    "    \n",
    "    Example "
   ]
  },
  {
   "cell_type": "code",
   "execution_count": 5,
   "id": "42e52bc6-6a02-467f-9e53-49fd6272f325",
   "metadata": {},
   "outputs": [
    {
     "name": "stdout",
     "output_type": "stream",
     "text": [
      "I have 3 sides\n",
      "I have 4 sides\n",
      "I have 5 sides\n",
      "I have 6 sides\n"
     ]
    }
   ],
   "source": [
    "# Python program showing\n",
    "# abstract base class work\n",
    "\n",
    "from abc import ABC, abstractmethod\n",
    "\n",
    "class Polygon(ABC):\n",
    "\n",
    "\t@abstractmethod\n",
    "\tdef noofsides(self):\n",
    "\t\tpass\n",
    "\n",
    "class Triangle(Polygon):\n",
    "\n",
    "\t# overriding abstract method\n",
    "\tdef noofsides(self):\n",
    "\t\tprint(\"I have 3 sides\")\n",
    "\n",
    "class Pentagon(Polygon):\n",
    "\n",
    "\t# overriding abstract method\n",
    "\tdef noofsides(self):\n",
    "\t\tprint(\"I have 5 sides\")\n",
    "\n",
    "class Hexagon(Polygon):\n",
    "\n",
    "\t# overriding abstract method\n",
    "\tdef noofsides(self):\n",
    "\t\tprint(\"I have 6 sides\")\n",
    "\n",
    "class Quadrilateral(Polygon):\n",
    "\n",
    "\t# overriding abstract method\n",
    "\tdef noofsides(self):\n",
    "\t\tprint(\"I have 4 sides\")\n",
    "\n",
    "# Driver code\n",
    "R = Triangle()\n",
    "R.noofsides()\n",
    "\n",
    "K = Quadrilateral()\n",
    "K.noofsides()\n",
    "\n",
    "R = Pentagon()\n",
    "R.noofsides()\n",
    "\n",
    "K = Hexagon()\n",
    "K.noofsides()\n"
   ]
  },
  {
   "cell_type": "code",
   "execution_count": 4,
   "id": "0ccec33f-cac0-400d-99e5-42a9247e0580",
   "metadata": {},
   "outputs": [
    {
     "name": "stdout",
     "output_type": "stream",
     "text": [
      "Calling protected member of base class:  2\n",
      "Calling modified protected member outside class:  3\n",
      "Accessing protected member of obj1:  3\n",
      "Accessing protected member of obj2:  2\n"
     ]
    }
   ],
   "source": [
    "\n",
    "''' Encapsulation'''\n",
    "\n",
    "# Creating a base class\n",
    "class Base:\n",
    "\tdef __init__(self):\n",
    "\n",
    "\t\t# Protected member\n",
    "\t\tself._a = 2\n",
    "\n",
    "# Creating a derived class\n",
    "class Derived(Base):\n",
    "\tdef __init__(self):\n",
    "\n",
    "\t\t# Calling constructor of\n",
    "\t\t# Base class\n",
    "\t\tBase.__init__(self)\n",
    "\t\tprint(\"Calling protected member of base class: \",\n",
    "\t\t\tself._a)\n",
    "\n",
    "\t\t# Modify the protected variable:\n",
    "\t\tself._a = 3\n",
    "\t\tprint(\"Calling modified protected member outside class: \",\n",
    "\t\t\tself._a)\n",
    "\n",
    "\n",
    "obj1 = Derived()\n",
    "\n",
    "obj2 = Base()\n",
    "\n",
    "# Calling protected member\n",
    "# Can be accessed but should not be done due to convention\n",
    "print(\"Accessing protected member of obj1: \", obj1._a)\n",
    "\n",
    "# Accessing the protected variable outside\n",
    "print(\"Accessing protected member of obj2: \", obj2._a)\n"
   ]
  },
  {
   "cell_type": "code",
   "execution_count": null,
   "id": "4dbd6ed4-da8f-4017-9c5b-5254b710752b",
   "metadata": {},
   "outputs": [],
   "source": [
    "3Q. What is abc module in python? Why is it used?\n",
    "\n",
    "Ans--> The abc module in Python is the Abstract Base Class module. It is used to define abstract base classes,\n",
    "which provide a way to define interfaces in Python. An abstract base class is a class that cannot be instantiated,\n",
    "but can be subclassed. The purpose of an abstract base class is to specify the interface that its subclasses must\n",
    "implement, without specifying how that implementation should be done.\n",
    "\n",
    "The abc module provides a way to create abstract base classes in Python by using the ABC class, as well as several\n",
    "decorators and methods to define abstract methods and properties."
   ]
  },
  {
   "cell_type": "code",
   "execution_count": null,
   "id": "ba3077ee-1cf4-4d9b-91d2-c8f81ef25a7f",
   "metadata": {},
   "outputs": [],
   "source": [
    "4Q. How can we achieve data abstraction?\n",
    "\n",
    "Ans--> Data abstraction is a programming concept that allows you to define the interface of an object without \n",
    "revealing the underlying implementation details. In other words, it provides a way to separate the implementation \n",
    "details of an object from the way it is used by other objects.\n",
    "\n",
    "There are several ways to achieve data abstraction in programming:\n",
    "\n",
    "Abstraction through classes: One of the most common ways to achieve data abstraction is through the use of classes.\n",
    "In object-oriented programming, classes provide a way to define objects with certain properties and methods, but\n",
    "hide the underlying implementation details from the rest of the code. For example, you can define a class with \n",
    "public methods that expose its behavior, but keep the implementation details private.\n",
    "\n",
    "Interfaces: An interface is a collection of abstract methods that must be implemented by any class that implements\n",
    "the interface. Interfaces are used to define a common set of behaviors that can be implemented by different classes,\n",
    "without specifying the implementation details. For example, in Java, you can define an interface that specifies the methods that must be implemented by a class that implements the interface.\n",
    "\n",
    "Modules: In some programming languages, like Python, you can use modules to define a set of related functions and \n",
    "variables, and hide the implementation details behind a well-defined interface. Modules provide a way to \n",
    "encapsulate the implementation details of a set of functions, and expose them to the rest of the code through a \n",
    "simple API.\n",
    "\n",
    "Information hiding: Information hiding is a programming concept that involves hiding the implementation details\n",
    "of an object or function behind a well-defined interface. Information hiding is used to protect the internal state\n",
    "of an object from being modified by external code, and to provide a clear and well-defined way for other objects \n",
    "to interact with the object."
   ]
  },
  {
   "cell_type": "code",
   "execution_count": null,
   "id": "ca2f8d5b-4a28-487f-8f9e-791b08ea8e6e",
   "metadata": {},
   "outputs": [],
   "source": []
  },
  {
   "cell_type": "code",
   "execution_count": null,
   "id": "41699b1d-b0f6-4854-b62a-18c2ea0e1e0d",
   "metadata": {},
   "outputs": [],
   "source": []
  }
 ],
 "metadata": {
  "kernelspec": {
   "display_name": "Python 3 (ipykernel)",
   "language": "python",
   "name": "python3"
  },
  "language_info": {
   "codemirror_mode": {
    "name": "ipython",
    "version": 3
   },
   "file_extension": ".py",
   "mimetype": "text/x-python",
   "name": "python",
   "nbconvert_exporter": "python",
   "pygments_lexer": "ipython3",
   "version": "3.10.8"
  }
 },
 "nbformat": 4,
 "nbformat_minor": 5
}
